{
 "cells": [
  {
   "cell_type": "code",
   "execution_count": null,
   "id": "64dfd0db-7e19-406a-9a9f-abb401b51553",
   "metadata": {
    "tags": []
   },
   "outputs": [],
   "source": [
    "! pip install pyarrow\n",
    "! pip install pandas\n",
    "! pip install scikit-learn\n",
    "! pip install pyspark\n",
    "! pip install xgboost\n",
    "! pip install kaleido\n",
    "! pip install EntropyHub"
   ]
  },
  {
   "cell_type": "code",
   "execution_count": null,
   "id": "d541c9d0-f4ba-46e8-92a1-0536cce73cee",
   "metadata": {
    "tags": []
   },
   "outputs": [],
   "source": [
    "from Input_Variables.read_vars import train_data_storage, validation_data_storage, test_data_storage, \\\n",
    "                                      inter_train_location, inter_test_location, inter_val_location,\\\n",
    "                                      one_hot_encoding_data, \\\n",
    "                                      analysis_group, \\\n",
    "                                      daily_stats_features_lower, daily_stats_features_upper, \\\n",
    "                                      model_storage_location, random_seed, \\\n",
    "                                      time_series_lag_values_created, \\\n",
    "                                      evaluation_metrics_output_storage, \\\n",
    "                                      feature_importance_storage_location, \\\n",
    "                                      overall_feature_importance_plot_location\n",
    "\n",
    "from Data_Schema.schema import Pandas_UDF_Data_Schema\n",
    "from Read_In_Data.read_data import Reading_Data\n",
    "from Data_Pipeline.imputation_pipeline import Date_And_Value_Imputation\n",
    "\n",
    "\n",
    "from Feature_Generation.create_binary_labels import Create_Binary_Labels\n",
    "from Feature_Generation.summary_stats import Summary_Stats_Features\n",
    "from Feature_Generation.lag_features import Create_Lagged_Features\n",
    "from Feature_Generation.time_series_feature_creation import TS_Features\n",
    "from Feature_Generation.difference_features import Difference_Features\n",
    "\n",
    "from Data_Pipeline.encoding_scaling_pipeline import Feature_Transformations\n",
    "\n",
    "from Model_Creation.pyspark_xgboost import Create_PySpark_XGBoost\n",
    "\n",
    "from Model_Predictions.pyspark_model_preds import Model_Predictions\n",
    "\n",
    "from Model_Evaluation.pyspark_model_eval import Evaluate_Model\n",
    "\n",
    "from Feature_Importance.model_feature_importance import Feature_Importance\n",
    "\n",
    "from Model_Plots.xgboost_classification_plots import XGBoost_Classification_Plot\n",
    "\n",
    "import os\n",
    "\n",
    "# PySpark UDF Schema Activation\n",
    "pandas_udf_data_schema=Pandas_UDF_Data_Schema()\n",
    "\n",
    "# Data Location\n",
    "reading_data=Reading_Data()\n",
    "\n",
    "# Create Binary y Variables\n",
    "create_binary_labels=Create_Binary_Labels()\n",
    "\n",
    "# Imputation\n",
    "date_and_value_imputation=Date_And_Value_Imputation()\n",
    "\n",
    "# Features Daily Stats Module\n",
    "summary_stats_features=Summary_Stats_Features()\n",
    "\n",
    "# Features Complex\n",
    "ts_features=TS_Features()\n",
    "\n",
    "# Features Lagged Value\n",
    "create_lag_features=Create_Lagged_Features()\n",
    "\n",
    "# Features Differences\n",
    "difference_features=Difference_Features()\n",
    "\n",
    "# PySpark XGBoost Model Module\n",
    "create_pyspark_xgboost=Create_PySpark_XGBoost()\n",
    "\n",
    "# Classification Evaluation\n",
    "evaluate_model=Evaluate_Model()\n",
    "\n",
    "# Model Plots Feature Importance\n",
    "xgboost_classification_plot=XGBoost_Classification_Plot()\n",
    "\n",
    "# Feature Transformations\n",
    "feature_transformations=Feature_Transformations()\n",
    "\n",
    "\n",
    "pyspark_custom_imputation_schema=pandas_udf_data_schema.custom_imputation_pyspark_schema()\n",
    "\n",
    "\n",
    "model_predictions=Model_Predictions()\n",
    "\n",
    "# Feature Importance\n",
    "feature_importance=Feature_Importance()"
   ]
  },
  {
   "cell_type": "code",
   "execution_count": null,
   "id": "78ee7a27-0c92-453a-9b58-3563b9e3dab7",
   "metadata": {
    "tags": []
   },
   "outputs": [],
   "source": [
    "import pyspark\n",
    "from pyspark.sql import SparkSession\n",
    "\n",
    "spark = SparkSession \\\n",
    "        .builder \\\n",
    "        .appName(\"Glucose\") \\\n",
    "        .getOrCreate()"
   ]
  },
  {
   "cell_type": "code",
   "execution_count": null,
   "id": "dec9e39d-6282-4476-96b8-a8cba1eac7ea",
   "metadata": {
    "tags": []
   },
   "outputs": [],
   "source": [
    "interpolation_complete = os.path.exists('/cephfs/interpolation/train')\n",
    "\n",
    "if interpolation_complete == False:\n",
    "    date_and_value_imputation.interpolation_creation('train')\n",
    "    \n",
    "training_custom_imputation_pipeline = date_and_value_imputation.read_interpolation('/cephfs/interpolation/train/')\n",
    "\n",
    "training_custom_imputation_pipeline.show(2)\n",
    "\n",
    "\n",
    "\n",
    "interpolation_complete = os.path.exists('/cephfs/interpolation/test')\n",
    "\n",
    "if interpolation_complete == False:\n",
    "    date_and_value_imputation.interpolation_creation('test')\n",
    "    \n",
    "testing_custom_imputation_pipeline = date_and_value_imputation.read_interpolation('/cephfs/interpolation/test/')\n",
    "\n",
    "testing_custom_imputation_pipeline.show(2)\n",
    "\n",
    "\n",
    "\n",
    "interpolation_complete = os.path.exists('/cephfs/interpolation/val')\n",
    "\n",
    "if interpolation_complete == False:\n",
    "    date_and_value_imputation.interpolation_creation('val')\n",
    "    \n",
    "val_custom_imputation_pipeline = date_and_value_imputation.read_interpolation('/cephfs/interpolation/val/')\n",
    "\n",
    "val_custom_imputation_pipeline.show(2)"
   ]
  },
  {
   "cell_type": "code",
   "execution_count": null,
   "id": "448a1032-38ce-4b32-a577-6d4206844e3b",
   "metadata": {
    "tags": []
   },
   "outputs": [],
   "source": [
    "training_df_differences = difference_features.add_difference_features(training_custom_imputation_pipeline)\n",
    "training_df_differences.show(5)\n",
    "\n",
    "training_df_chunks = summary_stats_features.create_chunk_col(training_df_differences, chunk_val = 288)\n",
    "training_df_chunks.show(5)\n",
    "\n",
    "\n",
    "\n",
    "testing_df_differences = difference_features.add_difference_features(testing_custom_imputation_pipeline)\n",
    "testing_df_differences.show(5)\n",
    "\n",
    "testing_df_chunks = summary_stats_features.create_chunk_col(testing_df_differences, chunk_val = 288)\n",
    "testing_df_chunks.show(5)\n",
    "\n",
    "\n",
    "\n",
    "val_df_differences = difference_features.add_difference_features(val_custom_imputation_pipeline)\n",
    "val_df_differences.show(5)\n",
    "\n",
    "val_df_chunks = summary_stats_features.create_chunk_col(val_df_differences, chunk_val = 288)\n",
    "val_df_chunks.show(5)"
   ]
  },
  {
   "cell_type": "code",
   "execution_count": null,
   "id": "eaf2add6-8c57-4936-aeae-3352e367404d",
   "metadata": {
    "tags": []
   },
   "outputs": [],
   "source": [
    "# testing_df_chunks.repartition('NumId').write.parquet('/cephfs/featuresData/chunks/test')\n",
    "# val_df_chunks.repartition('NumId').write.parquet('/cephfs/featuresData/chunks/val')"
   ]
  },
  {
   "cell_type": "code",
   "execution_count": null,
   "id": "06e7569a-acbd-4e9d-9044-8a52781156b8",
   "metadata": {
    "tags": []
   },
   "outputs": [],
   "source": [
    "training_df_poincare = training_df_chunks.groupby(['NumId', 'Chunk']).apply(ts_features.poincare)\n",
    "training_df_poincare.show(5)\n",
    "training_df_entropy = training_df_chunks.groupby(['NumId', 'Chunk']).apply(ts_features.entropy)\n",
    "training_df_entropy.show(5)\n",
    "\n",
    "# training_df_poincare.repartition('NumId').write.parquet('/cephfs/featuresData/poincare/train')\n",
    "# training_df_entropy.repartition('NumId').write.parquet('/cephfs/featuresData/entropy/train')\n",
    "\n",
    "training_df_poincare = spark.read.parquet('/cephfs/featuresData/poincare/train')\n",
    "training_df_poincare.show(5)\n",
    "training_df_entropy = spark.read.parquet('/cephfs/featuresData/entropy/train')\n",
    "training_df_entropy.show(5)\n",
    "\n",
    "training_df_complex_features = training_df_poincare.join(training_df_entropy,['NumId', 'Chunk'])\n",
    "training_df_complex_features.show()"
   ]
  },
  {
   "cell_type": "code",
   "execution_count": null,
   "id": "4cf149da-e393-4859-9ca5-77bc3b444620",
   "metadata": {
    "tags": []
   },
   "outputs": [],
   "source": [
    "testing_df_chunks = spark.read.parquet('/cephfs/featuresData/chunks/test')\n",
    "val_df_chunks = spark.read.parquet('/cephfs/featuresData/chunks/val')"
   ]
  },
  {
   "cell_type": "code",
   "execution_count": null,
   "id": "9bb48dda-482b-4d53-b6a6-f3358bc1ae7e",
   "metadata": {
    "tags": []
   },
   "outputs": [],
   "source": [
    "testing_df_poincare = testing_df_chunks.groupby(['NumId', 'Chunk']).apply(ts_features.poincare)\n",
    "testing_df_poincare.show(5)\n",
    "testing_df_entropy = testing_df_chunks.groupby(['NumId', 'Chunk']).apply(ts_features.entropy)\n",
    "testing_df_entropy.show(5)"
   ]
  },
  {
   "cell_type": "code",
   "execution_count": null,
   "id": "107316ed-e4d0-4954-892e-dd11c0dd89f5",
   "metadata": {
    "tags": []
   },
   "outputs": [],
   "source": [
    "# testing_df_poincare.repartition('NumId').write.parquet('/cephfs/featuresData/poincare/test')\n",
    "# testing_df_entropy.repartition('NumId').write.parquet('/cephfs/featuresData/entropy/test')"
   ]
  },
  {
   "cell_type": "code",
   "execution_count": null,
   "id": "d7681390-7e0b-48ff-b521-c467db6f61eb",
   "metadata": {
    "tags": []
   },
   "outputs": [],
   "source": [
    "testing_df_poincare = spark.read.parquet('/cephfs/featuresData/poincare/test')\n",
    "testing_df_poincare.show(5)\n",
    "testing_df_entropy = spark.read.parquet('/cephfs/featuresData/entropy/test')\n",
    "testing_df_entropy.show(5)\n",
    "\n",
    "testing_df_complex_features = testing_df_poincare.join(testing_df_entropy,['NumId', 'Chunk'])\n",
    "testing_df_complex_features.show()"
   ]
  },
  {
   "cell_type": "code",
   "execution_count": null,
   "id": "fde54a55-a81b-485d-b0c5-6ca61666062f",
   "metadata": {
    "tags": []
   },
   "outputs": [],
   "source": [
    "val_df_poincare = val_df_chunks.groupby(['NumId', 'Chunk']).apply(ts_features.poincare)\n",
    "val_df_poincare.show(5)\n",
    "\n",
    "# val_df_poincare.repartition('NumId').write.parquet('/cephfs/featuresData/poincare/val')"
   ]
  },
  {
   "cell_type": "code",
   "execution_count": null,
   "id": "ee0fee10-6a29-4e7a-b5ae-3f80bffd86ad",
   "metadata": {
    "tags": []
   },
   "outputs": [],
   "source": [
    "val_df_entropy = val_df_chunks.groupby(['NumId', 'Chunk']).apply(ts_features.entropy)\n",
    "val_df_entropy.show(5)"
   ]
  },
  {
   "cell_type": "code",
   "execution_count": null,
   "id": "98c5927f-73f4-479c-841f-0acbdfe991c9",
   "metadata": {
    "tags": []
   },
   "outputs": [],
   "source": [
    "# val_df_entropy.repartition('NumId').write.parquet('/cephfs/featuresData/entropy/val')\n",
    "\n",
    "val_df_poincare = spark.read.parquet('/cephfs/featuresData/poincare/val')\n",
    "val_df_poincare.show(5)\n",
    "val_df_entropy = spark.read.parquet('/cephfs/featuresData/entropy/val')\n",
    "val_df_entropy.show(5)\n",
    "\n",
    "val_df_complex_features = val_df_poincare.join(val_df_entropy,['NumId', 'Chunk'])\n",
    "val_df_complex_features.show()"
   ]
  },
  {
   "cell_type": "code",
   "execution_count": null,
   "id": "37319a6c-4ba8-46d5-938b-12f138ee900a",
   "metadata": {
    "tags": []
   },
   "outputs": [],
   "source": [
    "summary_stats_complete = os.path.exists('/cephfs/summary_stats/encoded/one_hot_train/summary_stats_cohort_bool_encoded.parquet')\n",
    "\n",
    "if summary_stats_complete == False:\n",
    "    training_features_summary_stats=summary_stats_features.pyspark_summary_statistics(df=training_df_chunks)\n",
    "else:\n",
    "    training_features_summary_stats=reading_data.read_in_pyspark_data_for_summary_stats('/cephfs/summary_stats/encoded/one_hot_train/summary_stats_cohort_bool_encoded.parquet')\n",
    "\n",
    "    \n",
    "training_features_summary_stats= spark.read.parquet('/cephfs/summary_stats/encoded/one_hot_train/summary_stats_cohort_bool_encoded.parquet')\n",
    "training_features_summary_stats.show(3)\n",
    "\n",
    "\n",
    "\n",
    "summary_stats_complete = os.path.exists('/cephfs/summary_stats/encoded/one_hot_test/summary_stats_cohort_bool_encoded.parquet')\n",
    "\n",
    "if summary_stats_complete == False:\n",
    "    testing_features_summary_stats=summary_stats_features.pyspark_summary_statistics(df=testing_df_chunks)\n",
    "else:\n",
    "    testing_features_summary_stats=reading_data.read_in_pyspark_data_for_summary_stats('/cephfs/summary_stats/encoded/one_hot_test/summary_stats_cohort_bool_encoded.parquet')\n",
    "\n",
    "testing_features_summary_stats.show(3)\n",
    "\n",
    "\n",
    "\n",
    "summary_stats_complete = os.path.exists('/cephfs/summary_stats/encoded/one_hot_val/summary_stats_cohort_bool_encoded.parquet')\n",
    "\n",
    "if summary_stats_complete == False:\n",
    "    val_features_summary_stats=summary_stats_features.pyspark_summary_statistics(df=val_df_chunks)\n",
    "else:\n",
    "    val_features_summary_stats=reading_data.read_in_pyspark_data_for_summary_stats('/cephfs/summary_stats/encoded/one_hot_val/summary_stats_cohort_bool_encoded.parquet')\n",
    "\n",
    "val_features_summary_stats.show(3)"
   ]
  },
  {
   "cell_type": "code",
   "execution_count": null,
   "id": "68b59526-97f8-4616-a392-daf14b33b3f2",
   "metadata": {
    "tags": []
   },
   "outputs": [],
   "source": [
    "training_df_final = training_df_complex_features.join(training_features_summary_stats,['NumId', 'Chunk'])\n",
    "training_df_final.show(5)\n",
    "\n",
    "\n",
    "testing_df_final = testing_df_complex_features.join(testing_features_summary_stats,['NumId', 'Chunk'])\n",
    "testing_df_final.show(5)\n",
    "\n",
    "\n",
    "val_df_final = val_df_complex_features.join(val_features_summary_stats,['NumId', 'Chunk'])\n",
    "val_df_final.show(5)"
   ]
  },
  {
   "cell_type": "code",
   "execution_count": null,
   "id": "1df76ef1-be9b-4089-944d-10d0260f6360",
   "metadata": {
    "tags": []
   },
   "outputs": [],
   "source": [
    "training_df_final.repartition('NumId').write.parquet('/cephfs/summary_stats/all_train_bool')\n",
    "testing_df_final.repartition('NumId').write.parquet('/cephfs/summary_stats/all_test_bool')\n",
    "val_df_final.repartition('NumId').write.parquet('/cephfs/summary_stats/all_val_bool')"
   ]
  },
  {
   "cell_type": "code",
   "execution_count": null,
   "id": "87b4e8c3-4fc6-4cda-857d-755c3bbf31e5",
   "metadata": {},
   "outputs": [],
   "source": []
  }
 ],
 "metadata": {
  "kernelspec": {
   "display_name": "glucose-venv",
   "language": "python",
   "name": "glucose-venv"
  },
  "language_info": {
   "codemirror_mode": {
    "name": "ipython",
    "version": 3
   },
   "file_extension": ".py",
   "mimetype": "text/x-python",
   "name": "python",
   "nbconvert_exporter": "python",
   "pygments_lexer": "ipython3",
   "version": "3.10.10"
  }
 },
 "nbformat": 4,
 "nbformat_minor": 5
}
